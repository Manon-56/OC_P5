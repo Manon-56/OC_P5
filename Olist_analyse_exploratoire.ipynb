{
 "cells": [
  {
   "cell_type": "markdown",
   "id": "b1196a74",
   "metadata": {},
   "source": [
    "# Projet 5 - Segmentez des clients d'un site e-commerce - analyse exploratoire des données"
   ]
  },
  {
   "cell_type": "markdown",
   "id": "8fd5edf8",
   "metadata": {},
   "source": [
    "## Presentation du contexte et des objectifs"
   ]
  },
  {
   "cell_type": "markdown",
   "id": "ff2f9009",
   "metadata": {},
   "source": [
    "La [base de données](https://www.kaggle.com/datasets/olistbr/brazilian-ecommerce) à la source de ce projet provient de l'entreprise brésilienne Olist fondée en 2015. <br> Celle-ci propose une plateforme technologique facilitant la connexion entre les petits commerçants et les grands marketplaces en ligne (Mercado Livre, Americanas, Amazon…). Olist agit comme un agrégateur qui regroupe les catalogues de centaines de détaillants dans une vitrine unique, optimise les prix et gère la logistique et les paiements . <br>\n",
    "La base de donnée fournie contient de nombreuses données anonymisées, à la fois sur les clients, les commandes, les produits et les vendeurs.\n",
    "\n",
    "L'objectif de ce projet est double : <br>\n",
    "- Segmenter les clients afin de mieux cibler les campagnes de communication\n",
    "- Proposer un contrat de maintenance afin de savoir à quelle fréquence le modèle devra être réentrainé"
   ]
  },
  {
   "cell_type": "code",
   "execution_count": 1,
   "id": "da08ddd6",
   "metadata": {},
   "outputs": [],
   "source": [
    "import seaborn as sns\n",
    "import matplotlib.pyplot as plt\n",
    "import numpy as np\n",
    "import pandas as pd\n",
    "import polars as pl\n",
    "import polars.selectors as cs\n",
    "\n",
    "from datetime import datetime\n",
    "\n",
    "from custom_library.outils import import_data"
   ]
  },
  {
   "cell_type": "markdown",
   "id": "4bc666de",
   "metadata": {},
   "source": [
    "## Définir la requête SQL et importer les données"
   ]
  },
  {
   "cell_type": "markdown",
   "id": "501e1f4c",
   "metadata": {},
   "source": [
    "Je souhaite extraire la liste des clients (customer_id in customers), associés à la date de leur dernière commande (order_purchase_timestamp in orders), le nombre total de produits achetés (product_id in order_items), le nombre de commandes (order_id in orders), ainsi que la somme totale dépensée (payment_value in order_pymts). On ajoutera également le score moyen (review_score in order_reviews), le type de produit préféré (product_category_name_english in translation), et la région (customer_state in customers). Chaque ligne doit représenter un client. La méthode RFM est représentée par la date de la dernière commande (Récence), le nombre de commandes (Fréquence), et la somme totale dépensée (Montant)."
   ]
  },
  {
   "cell_type": "markdown",
   "id": "8a34896a",
   "metadata": {},
   "source": [
    "Dans un souci de réutilisation, j'ai créé la méthode import_data dans le script outils.py permettant d'importer les données décrites ci-dessus sous forme de dataFrame à partir de la bdd."
   ]
  },
  {
   "cell_type": "code",
   "execution_count": 2,
   "id": "fdb8d8fa",
   "metadata": {},
   "outputs": [
    {
     "name": "stdout",
     "output_type": "stream",
     "text": [
      "96096\n",
      "(96096, 10)\n",
      "[String, String, Int64, Int64, Float64, Float64, Float64, Float64, Float64, String]\n"
     ]
    },
    {
     "data": {
      "text/html": [
       "<div><style>\n",
       ".dataframe > thead > tr,\n",
       ".dataframe > tbody > tr {\n",
       "  text-align: right;\n",
       "  white-space: pre-wrap;\n",
       "}\n",
       "</style>\n",
       "<small>shape: (5, 10)</small><table border=\"1\" class=\"dataframe\"><thead><tr><th>customer_unique_id</th><th>customer_state</th><th>nb_commandes</th><th>nb_produits</th><th>prix_produit_total</th><th>prix_transport_total</th><th>depense_totale</th><th>recence</th><th>score_moyen</th><th>type_produit_prefere</th></tr><tr><td>str</td><td>str</td><td>i64</td><td>i64</td><td>f64</td><td>f64</td><td>f64</td><td>f64</td><td>f64</td><td>str</td></tr></thead><tbody><tr><td>&quot;0000366f3b9a7992bf8c76cfdf3221…</td><td>&quot;SP&quot;</td><td>1</td><td>1</td><td>129.9</td><td>12.0</td><td>141.9</td><td>2611.544132</td><td>5.0</td><td>&quot;bed_bath_table&quot;</td></tr><tr><td>&quot;0000b849f77a49e4a4ce2b2a4ca5be…</td><td>&quot;SP&quot;</td><td>1</td><td>1</td><td>18.9</td><td>8.29</td><td>27.19</td><td>2614.533715</td><td>4.0</td><td>&quot;health_beauty&quot;</td></tr><tr><td>&quot;0000f46a3911fa3c08054444833370…</td><td>&quot;SC&quot;</td><td>1</td><td>1</td><td>69.0</td><td>17.22</td><td>86.22</td><td>3037.121493</td><td>3.0</td><td>&quot;stationery&quot;</td></tr><tr><td>&quot;0000f6ccb0745a6a4b88665a16c9f0…</td><td>&quot;PA&quot;</td><td>1</td><td>1</td><td>25.99</td><td>17.63</td><td>43.62</td><td>2821.146053</td><td>4.0</td><td>&quot;telephony&quot;</td></tr><tr><td>&quot;0004aac84e0df4da2b147fca70cf82…</td><td>&quot;SP&quot;</td><td>1</td><td>1</td><td>180.0</td><td>16.89</td><td>196.89</td><td>2788.176597</td><td>5.0</td><td>&quot;telephony&quot;</td></tr></tbody></table></div>"
      ],
      "text/plain": [
       "shape: (5, 10)\n",
       "┌───────────┬───────────┬───────────┬───────────┬───┬───────────┬───────────┬───────────┬──────────┐\n",
       "│ customer_ ┆ customer_ ┆ nb_comman ┆ nb_produi ┆ … ┆ depense_t ┆ recence   ┆ score_moy ┆ type_pro │\n",
       "│ unique_id ┆ state     ┆ des       ┆ ts        ┆   ┆ otale     ┆ ---       ┆ en        ┆ duit_pre │\n",
       "│ ---       ┆ ---       ┆ ---       ┆ ---       ┆   ┆ ---       ┆ f64       ┆ ---       ┆ fere     │\n",
       "│ str       ┆ str       ┆ i64       ┆ i64       ┆   ┆ f64       ┆           ┆ f64       ┆ ---      │\n",
       "│           ┆           ┆           ┆           ┆   ┆           ┆           ┆           ┆ str      │\n",
       "╞═══════════╪═══════════╪═══════════╪═══════════╪═══╪═══════════╪═══════════╪═══════════╪══════════╡\n",
       "│ 0000366f3 ┆ SP        ┆ 1         ┆ 1         ┆ … ┆ 141.9     ┆ 2611.5441 ┆ 5.0       ┆ bed_bath │\n",
       "│ b9a7992bf ┆           ┆           ┆           ┆   ┆           ┆ 32        ┆           ┆ _table   │\n",
       "│ 8c76cfdf3 ┆           ┆           ┆           ┆   ┆           ┆           ┆           ┆          │\n",
       "│ 221…      ┆           ┆           ┆           ┆   ┆           ┆           ┆           ┆          │\n",
       "│ 0000b849f ┆ SP        ┆ 1         ┆ 1         ┆ … ┆ 27.19     ┆ 2614.5337 ┆ 4.0       ┆ health_b │\n",
       "│ 77a49e4a4 ┆           ┆           ┆           ┆   ┆           ┆ 15        ┆           ┆ eauty    │\n",
       "│ ce2b2a4ca ┆           ┆           ┆           ┆   ┆           ┆           ┆           ┆          │\n",
       "│ 5be…      ┆           ┆           ┆           ┆   ┆           ┆           ┆           ┆          │\n",
       "│ 0000f46a3 ┆ SC        ┆ 1         ┆ 1         ┆ … ┆ 86.22     ┆ 3037.1214 ┆ 3.0       ┆ statione │\n",
       "│ 911fa3c08 ┆           ┆           ┆           ┆   ┆           ┆ 93        ┆           ┆ ry       │\n",
       "│ 054444833 ┆           ┆           ┆           ┆   ┆           ┆           ┆           ┆          │\n",
       "│ 370…      ┆           ┆           ┆           ┆   ┆           ┆           ┆           ┆          │\n",
       "│ 0000f6ccb ┆ PA        ┆ 1         ┆ 1         ┆ … ┆ 43.62     ┆ 2821.1460 ┆ 4.0       ┆ telephon │\n",
       "│ 0745a6a4b ┆           ┆           ┆           ┆   ┆           ┆ 53        ┆           ┆ y        │\n",
       "│ 88665a16c ┆           ┆           ┆           ┆   ┆           ┆           ┆           ┆          │\n",
       "│ 9f0…      ┆           ┆           ┆           ┆   ┆           ┆           ┆           ┆          │\n",
       "│ 0004aac84 ┆ SP        ┆ 1         ┆ 1         ┆ … ┆ 196.89    ┆ 2788.1765 ┆ 5.0       ┆ telephon │\n",
       "│ e0df4da2b ┆           ┆           ┆           ┆   ┆           ┆ 97        ┆           ┆ y        │\n",
       "│ 147fca70c ┆           ┆           ┆           ┆   ┆           ┆           ┆           ┆          │\n",
       "│ f82…      ┆           ┆           ┆           ┆   ┆           ┆           ┆           ┆          │\n",
       "└───────────┴───────────┴───────────┴───────────┴───┴───────────┴───────────┴───────────┴──────────┘"
      ]
     },
     "execution_count": 2,
     "metadata": {},
     "output_type": "execute_result"
    }
   ],
   "source": [
    "date_fin = datetime.today().strftime('%Y-%m-%d')\n",
    "data_all = import_data(date_fin)\n",
    "print(data_all.shape)\n",
    "print(data_all.dtypes)\n",
    "data_all.head()"
   ]
  },
  {
   "cell_type": "code",
   "execution_count": 3,
   "id": "01d8e83b",
   "metadata": {},
   "outputs": [
    {
     "data": {
      "text/html": [
       "<div><style>\n",
       ".dataframe > thead > tr,\n",
       ".dataframe > tbody > tr {\n",
       "  text-align: right;\n",
       "  white-space: pre-wrap;\n",
       "}\n",
       "</style>\n",
       "<small>shape: (9, 11)</small><table border=\"1\" class=\"dataframe\"><thead><tr><th>statistic</th><th>customer_unique_id</th><th>customer_state</th><th>nb_commandes</th><th>nb_produits</th><th>prix_produit_total</th><th>prix_transport_total</th><th>depense_totale</th><th>recence</th><th>score_moyen</th><th>type_produit_prefere</th></tr><tr><td>str</td><td>str</td><td>str</td><td>f64</td><td>f64</td><td>f64</td><td>f64</td><td>f64</td><td>f64</td><td>f64</td><td>str</td></tr></thead><tbody><tr><td>&quot;count&quot;</td><td>&quot;96096&quot;</td><td>&quot;96096&quot;</td><td>96096.0</td><td>95420.0</td><td>95420.0</td><td>95420.0</td><td>96095.0</td><td>96096.0</td><td>95380.0</td><td>&quot;94007&quot;</td></tr><tr><td>&quot;null_count&quot;</td><td>&quot;0&quot;</td><td>&quot;0&quot;</td><td>0.0</td><td>676.0</td><td>676.0</td><td>676.0</td><td>1.0</td><td>0.0</td><td>716.0</td><td>&quot;2089&quot;</td></tr><tr><td>&quot;mean&quot;</td><td>null</td><td>null</td><td>1.034809</td><td>1.18057</td><td>142.440198</td><td>23.599974</td><td>166.594226</td><td>2739.471995</td><td>4.084963</td><td>null</td></tr><tr><td>&quot;std&quot;</td><td>null</td><td>null</td><td>0.214384</td><td>0.62145</td><td>217.656355</td><td>22.878663</td><td>231.428912</td><td>153.416318</td><td>1.341661</td><td>null</td></tr><tr><td>&quot;min&quot;</td><td>&quot;0000366f3b9a7992bf8c76cfdf3221…</td><td>&quot;AC&quot;</td><td>1.0</td><td>1.0</td><td>0.85</td><td>0.0</td><td>0.0</td><td>2451.270625</td><td>1.0</td><td>&quot;agro_industry_and_commerce&quot;</td></tr><tr><td>&quot;25%&quot;</td><td>null</td><td>null</td><td>1.0</td><td>1.0</td><td>47.9</td><td>14.08</td><td>63.12</td><td>2615.156424</td><td>4.0</td><td>null</td></tr><tr><td>&quot;50%&quot;</td><td>null</td><td>null</td><td>1.0</td><td>1.0</td><td>89.9</td><td>17.6</td><td>108.0</td><td>2720.184884</td><td>5.0</td><td>null</td></tr><tr><td>&quot;75%&quot;</td><td>null</td><td>null</td><td>1.0</td><td>1.0</td><td>155.0</td><td>25.54</td><td>183.53</td><td>2848.621053</td><td>5.0</td><td>null</td></tr><tr><td>&quot;max&quot;</td><td>&quot;ffffd2657e2aad2907e67c3e9daecb…</td><td>&quot;TO&quot;</td><td>17.0</td><td>24.0</td><td>13440.0</td><td>1794.96</td><td>13664.08</td><td>3224.114363</td><td>5.0</td><td>&quot;watches_gifts&quot;</td></tr></tbody></table></div>"
      ],
      "text/plain": [
       "shape: (9, 11)\n",
       "┌───────────┬───────────┬───────────┬───────────┬───┬───────────┬───────────┬───────────┬──────────┐\n",
       "│ statistic ┆ customer_ ┆ customer_ ┆ nb_comman ┆ … ┆ depense_t ┆ recence   ┆ score_moy ┆ type_pro │\n",
       "│ ---       ┆ unique_id ┆ state     ┆ des       ┆   ┆ otale     ┆ ---       ┆ en        ┆ duit_pre │\n",
       "│ str       ┆ ---       ┆ ---       ┆ ---       ┆   ┆ ---       ┆ f64       ┆ ---       ┆ fere     │\n",
       "│           ┆ str       ┆ str       ┆ f64       ┆   ┆ f64       ┆           ┆ f64       ┆ ---      │\n",
       "│           ┆           ┆           ┆           ┆   ┆           ┆           ┆           ┆ str      │\n",
       "╞═══════════╪═══════════╪═══════════╪═══════════╪═══╪═══════════╪═══════════╪═══════════╪══════════╡\n",
       "│ count     ┆ 96096     ┆ 96096     ┆ 96096.0   ┆ … ┆ 96095.0   ┆ 96096.0   ┆ 95380.0   ┆ 94007    │\n",
       "│ null_coun ┆ 0         ┆ 0         ┆ 0.0       ┆ … ┆ 1.0       ┆ 0.0       ┆ 716.0     ┆ 2089     │\n",
       "│ t         ┆           ┆           ┆           ┆   ┆           ┆           ┆           ┆          │\n",
       "│ mean      ┆ null      ┆ null      ┆ 1.034809  ┆ … ┆ 166.59422 ┆ 2739.4719 ┆ 4.084963  ┆ null     │\n",
       "│           ┆           ┆           ┆           ┆   ┆ 6         ┆ 95        ┆           ┆          │\n",
       "│ std       ┆ null      ┆ null      ┆ 0.214384  ┆ … ┆ 231.42891 ┆ 153.41631 ┆ 1.341661  ┆ null     │\n",
       "│           ┆           ┆           ┆           ┆   ┆ 2         ┆ 8         ┆           ┆          │\n",
       "│ min       ┆ 0000366f3 ┆ AC        ┆ 1.0       ┆ … ┆ 0.0       ┆ 2451.2706 ┆ 1.0       ┆ agro_ind │\n",
       "│           ┆ b9a7992bf ┆           ┆           ┆   ┆           ┆ 25        ┆           ┆ ustry_an │\n",
       "│           ┆ 8c76cfdf3 ┆           ┆           ┆   ┆           ┆           ┆           ┆ d_commer │\n",
       "│           ┆ 221…      ┆           ┆           ┆   ┆           ┆           ┆           ┆ ce       │\n",
       "│ 25%       ┆ null      ┆ null      ┆ 1.0       ┆ … ┆ 63.12     ┆ 2615.1564 ┆ 4.0       ┆ null     │\n",
       "│           ┆           ┆           ┆           ┆   ┆           ┆ 24        ┆           ┆          │\n",
       "│ 50%       ┆ null      ┆ null      ┆ 1.0       ┆ … ┆ 108.0     ┆ 2720.1848 ┆ 5.0       ┆ null     │\n",
       "│           ┆           ┆           ┆           ┆   ┆           ┆ 84        ┆           ┆          │\n",
       "│ 75%       ┆ null      ┆ null      ┆ 1.0       ┆ … ┆ 183.53    ┆ 2848.6210 ┆ 5.0       ┆ null     │\n",
       "│           ┆           ┆           ┆           ┆   ┆           ┆ 53        ┆           ┆          │\n",
       "│ max       ┆ ffffd2657 ┆ TO        ┆ 17.0      ┆ … ┆ 13664.08  ┆ 3224.1143 ┆ 5.0       ┆ watches_ │\n",
       "│           ┆ e2aad2907 ┆           ┆           ┆   ┆           ┆ 63        ┆           ┆ gifts    │\n",
       "│           ┆ e67c3e9da ┆           ┆           ┆   ┆           ┆           ┆           ┆          │\n",
       "│           ┆ ecb…      ┆           ┆           ┆   ┆           ┆           ┆           ┆          │\n",
       "└───────────┴───────────┴───────────┴───────────┴───┴───────────┴───────────┴───────────┴──────────┘"
      ]
     },
     "execution_count": 3,
     "metadata": {},
     "output_type": "execute_result"
    }
   ],
   "source": [
    "data_all.describe()"
   ]
  },
  {
   "cell_type": "markdown",
   "id": "12720710",
   "metadata": {},
   "source": [
    "## Nettoyer les données"
   ]
  },
  {
   "cell_type": "markdown",
   "id": "c3341fc3",
   "metadata": {},
   "source": [
    "### On vérifie que chaque client est bien représenté une seule fois dans le dataset"
   ]
  },
  {
   "cell_type": "code",
   "execution_count": 4,
   "id": "10807cd0",
   "metadata": {},
   "outputs": [
    {
     "data": {
      "text/plain": [
       "True"
      ]
     },
     "execution_count": 4,
     "metadata": {},
     "output_type": "execute_result"
    }
   ],
   "source": [
    "len(data_all['customer_unique_id'].unique()) == len(data_all['customer_unique_id'])"
   ]
  },
  {
   "cell_type": "markdown",
   "id": "9eab79cd",
   "metadata": {},
   "source": [
    "### Vérifier que la dépense totale est bien la somme du prix des produits et du prix du transport"
   ]
  },
  {
   "cell_type": "markdown",
   "id": "1dbed601",
   "metadata": {},
   "source": [
    "On calcule le pourcentage de clients qui ont une erreur de plus de 1% sur leur dépense totale :"
   ]
  },
  {
   "cell_type": "code",
   "execution_count": null,
   "id": "2b2348b7",
   "metadata": {},
   "outputs": [],
   "source": [
    "condition_match = np.abs(\n",
    "\t\t\tdata_all[\"depense_totale\"]\n",
    "\t\t\t- (data_all[\"prix_produit_total\"] + data_all[\"prix_transport_total\"])\n",
    "\t\t)> 0.01 * data_all[\"depense_totale\"]\n",
    "\n",
    "percent = np.round(\n",
    "\t\tcondition_match.sum()/ len(data_all) * 100,\n",
    "    2)\n",
    "\n",
    "print(f\"{percent}% des clients ont une erreur sur leur dépense totale qui est considérée trop importante (>1%)\")"
   ]
  },
  {
   "cell_type": "markdown",
   "id": "b9f03675",
   "metadata": {},
   "source": [
    "Comme la part d'erreur est faible, on se contente d'enlever du dataset les clients concernés : "
   ]
  },
  {
   "cell_type": "code",
   "execution_count": null,
   "id": "5ecf6824",
   "metadata": {},
   "outputs": [],
   "source": [
    "print(f\"Avant filtrage il y avait {len(data_all)} clients\")\n",
    "data_filtered = data_all.filter(\n",
    "    (\n",
    "        (\n",
    "            pl.col(\"depense_totale\") \n",
    "            - (pl.col(\"prix_produit_total\") + pl.col(\"prix_transport_total\"))\n",
    "        ).abs()\n",
    "    ) < (0.01 * pl.col(\"depense_totale\"))\n",
    ")\n",
    "print(f\"Après filtrage, il y a maintenant {len(data_filtered)} clients\")"
   ]
  },
  {
   "cell_type": "markdown",
   "id": "f6d22bff",
   "metadata": {},
   "source": [
    "On a seulement besoin de la dépense totale, on peut enlever le prix des produits et du transport :"
   ]
  },
  {
   "cell_type": "code",
   "execution_count": null,
   "id": "f1633237",
   "metadata": {},
   "outputs": [],
   "source": [
    "data_filtered = data_filtered.drop(\n",
    "    [\"prix_transport_total\", \"prix_produit_total\"]\n",
    ")"
   ]
  },
  {
   "cell_type": "markdown",
   "id": "e7716745",
   "metadata": {},
   "source": [
    "## Observer les données"
   ]
  },
  {
   "cell_type": "code",
   "execution_count": null,
   "id": "198478ac",
   "metadata": {},
   "outputs": [],
   "source": [
    "numeric_df = data_filtered.select(cs.numeric())"
   ]
  },
  {
   "cell_type": "code",
   "execution_count": null,
   "id": "26237bc3",
   "metadata": {},
   "outputs": [],
   "source": [
    "var = numeric_df[\"nb_commandes\"]\n",
    "var_str = \"Nombre de commandes par client\"\n",
    "\n",
    "fig, axes = plt.subplots(nrows=1,ncols=2, figsize=(10, 4))\n",
    "\n",
    "sns.histplot(var, ax=axes[0])\n",
    "axes[0].set_title(\"Histogramme\")\n",
    "axes[0].set_ylabel(\"Nombre de clients\")\n",
    "axes[0].set_xlabel(var_str)\n",
    "\n",
    "sns.boxplot(var, ax=axes[1])\n",
    "axes[1].set_title(\"Boîte à moustaches\")\n",
    "axes[1].set_ylabel(var_str)\n",
    "\n",
    "fig.suptitle(\"Répartition des clients selon le nombre de commandes passées\", fontsize=16, y=1.03)\n",
    "\n",
    "plt.tight_layout()\n",
    "plt.show()\n"
   ]
  },
  {
   "cell_type": "markdown",
   "id": "8bfd7b9b",
   "metadata": {},
   "source": [
    "La grande majorité des clients n'a fait qu'une seule commande. Séparons donc ces deux groupes de clients pour une observation plus détaillée"
   ]
  },
  {
   "cell_type": "code",
   "execution_count": null,
   "id": "bfb62728",
   "metadata": {},
   "outputs": [],
   "source": [
    "data_1_commande = numeric_df.filter(numeric_df['nb_commandes'] == 1)\n",
    "data_plus_commandes = numeric_df.filter(numeric_df['nb_commandes'] > 1)"
   ]
  },
  {
   "cell_type": "code",
   "execution_count": null,
   "id": "6c0a2a37",
   "metadata": {},
   "outputs": [],
   "source": [
    "sns.histplot(data_plus_commandes['nb_commandes'])\n",
    "plt.xlabel(\"Nombre de commandes par client\")\n",
    "plt.title(\"Répartition des clients qui ont passé plusieurs commandes\")\n",
    "plt.tight_layout()\n",
    "plt.show()"
   ]
  },
  {
   "cell_type": "markdown",
   "id": "312d63a6",
   "metadata": {},
   "source": [
    "Parmi la minorité de clients qui ont passé plusieurs commandes, la majorité a passé 2 commandes"
   ]
  },
  {
   "cell_type": "code",
   "execution_count": null,
   "id": "c5830b4a",
   "metadata": {},
   "outputs": [],
   "source": [
    "print(f\"Parmi les {len(numeric_df)} clients, {np.round(len(data_1_commande)/len(numeric_df)*100,2)} % ont passé une seule commande et parmi les {np.round(100-len(data_1_commande)/len(numeric_df)*100,2)} % restant, {np.round(len(data_plus_commandes.filter(data_plus_commandes['nb_commandes']==2))/len(data_plus_commandes)*100,2)} % ont passé 2 commandes\")"
   ]
  },
  {
   "cell_type": "markdown",
   "id": "78c24e92",
   "metadata": {},
   "source": [
    "Le dataset est donc très déséquilibré en terme de fréquence. Ceci rend difficile l'utilisation de la fréquence pour segmenter les clients et fragilise la méthode RFM."
   ]
  },
  {
   "cell_type": "code",
   "execution_count": null,
   "id": "d7169c4d",
   "metadata": {},
   "outputs": [],
   "source": [
    "var = numeric_df[\"nb_produits\"]\n",
    "var_str = \"Nombre de produits achetés par client\"\n",
    "\n",
    "fig, axes = plt.subplots(nrows=1,ncols=2, figsize=(10, 4))\n",
    "\n",
    "sns.histplot(var, ax=axes[0])\n",
    "axes[0].set_title(\"Histogramme\")\n",
    "axes[0].set_ylabel(\"Nombre de clients\")\n",
    "axes[0].set_xlabel(var_str)\n",
    "\n",
    "sns.boxplot(var, ax=axes[1])\n",
    "axes[1].set_title(\"Boîte à moustaches\")\n",
    "axes[1].set_ylabel(var_str)\n",
    "\n",
    "fig.suptitle(\"Répartition des clients selon le nombre total de produits achetés\", fontsize=16, y=1.03)\n",
    "\n",
    "plt.tight_layout()\n",
    "plt.show()\n"
   ]
  },
  {
   "cell_type": "markdown",
   "id": "c3be7b59",
   "metadata": {},
   "source": [
    "De la même manière que pour le nombre de commande, qui est lié, on a un déséquilibre dans le nombre de produits achetés :"
   ]
  },
  {
   "cell_type": "code",
   "execution_count": null,
   "id": "52ca7f43",
   "metadata": {},
   "outputs": [],
   "source": [
    "data_1_produit = numeric_df.filter(numeric_df['nb_produits'] == 1)\n",
    "data_plus_produits = numeric_df.filter(numeric_df['nb_produits'] > 1)"
   ]
  },
  {
   "cell_type": "code",
   "execution_count": null,
   "id": "d64e5e36",
   "metadata": {},
   "outputs": [],
   "source": [
    "print(f\"Parmi les {len(numeric_df)} clients, {np.round(len(data_1_produit)/len(numeric_df)*100,2)} % ont acheté un seul produit.\")"
   ]
  },
  {
   "cell_type": "code",
   "execution_count": null,
   "id": "a6f22536",
   "metadata": {},
   "outputs": [],
   "source": [
    "sns.histplot(data_plus_produits['nb_produits'])\n",
    "plt.xlabel(\"Nombre de commandes par client\")\n",
    "plt.title(\"Répartition des clients qui ont passé plusieurs commandes\")\n",
    "plt.tight_layout()\n",
    "plt.show()"
   ]
  },
  {
   "cell_type": "code",
   "execution_count": null,
   "id": "4d8b877f",
   "metadata": {},
   "outputs": [],
   "source": [
    "var = numeric_df[\"recence\"]\n",
    "var_str = \"Temps écoulé depuis la dernière commande (en jours)\"\n",
    "\n",
    "fig, axes = plt.subplots(nrows=1,ncols=2, figsize=(10, 4))\n",
    "\n",
    "sns.histplot(var, ax=axes[0])\n",
    "axes[0].set_title(\"Histogramme\")\n",
    "axes[0].set_ylabel(\"Nombre de clients\")\n",
    "axes[0].set_xlabel(var_str)\n",
    "\n",
    "sns.boxplot(var, ax=axes[1])\n",
    "axes[1].set_title(\"Boîte à moustaches\")\n",
    "axes[1].set_ylabel(var_str)\n",
    "\n",
    "fig.suptitle(\"Répartition des clients selon le temps écoulé depuis la dernière commande\", fontsize=16, y=1.03)\n",
    "\n",
    "plt.tight_layout()\n",
    "plt.show()\n"
   ]
  },
  {
   "cell_type": "markdown",
   "id": "07cf9d06",
   "metadata": {},
   "source": [
    "On observe à la fois un pic de commandes entre 2700 et 2800 jours avant aujourd'hui et une absence complète de commandes entre 3100 et 3200 jours avant aujourd'hui. Cette période peut potentiellement refléter un perte de données. "
   ]
  },
  {
   "cell_type": "code",
   "execution_count": null,
   "id": "c5674064",
   "metadata": {},
   "outputs": [],
   "source": [
    "var = numeric_df[\"depense_totale\"]\n",
    "var_str = \"Somme totale dépensée (en euros)\"\n",
    "\n",
    "fig, axes = plt.subplots(nrows=1,ncols=2, figsize=(10, 4))\n",
    "\n",
    "sns.histplot(var, ax=axes[0])\n",
    "axes[0].set_title(\"Histogramme\")\n",
    "axes[0].set_ylabel(\"Nombre de clients\")\n",
    "axes[0].set_xlabel(var_str)\n",
    "\n",
    "sns.boxplot(var, ax=axes[1])\n",
    "axes[1].set_title(\"Boîte à moustaches\")\n",
    "axes[1].set_ylabel(var_str)\n",
    "\n",
    "fig.suptitle(\"Répartition des clients selon la somme totale dépensée\", fontsize=16, y=1.03)\n",
    "\n",
    "plt.tight_layout()\n",
    "plt.show()"
   ]
  },
  {
   "cell_type": "code",
   "execution_count": null,
   "id": "b563c454",
   "metadata": {},
   "outputs": [],
   "source": [
    "data_filtered.columns"
   ]
  },
  {
   "cell_type": "code",
   "execution_count": null,
   "id": "30b61c7d",
   "metadata": {},
   "outputs": [],
   "source": [
    "state_counts = data_filtered['customer_state'].value_counts().sort('count')\n",
    "# Créer le graphique à barres avec les axes inversés\n",
    "# Créer le graphique à barres avec les axes inversés\n",
    "ax = state_counts.tail(15).to_pandas().set_index('customer_state')['count'].plot(kind='barh')\n",
    "plt.title('Répartition des clients selon leur Etat')"
   ]
  },
  {
   "cell_type": "markdown",
   "id": "0d25bc6a",
   "metadata": {},
   "source": [
    "La grande majorité des clients proviennent de la région de SaoPaulo. Si on encodait la variable en gardant les 26 catégories (i.e. 26 états), on pourrait ajouter du bruit au modèle ou biaiser ses résultats. Ainsi, on choisit de regrouper les états selon les 5 régions suivantes ([source: Wikipedia](https://fr.wikipedia.org/wiki/R%C3%A9gions_du_Br%C3%A9sil)): \n",
    "- Centre-Ouest (GO, MT, MS, DF)\n",
    "- Nord-Est (MA, PI, CE, RN, PB, AL, PE, BA, SE)\n",
    "- Nord (AC, AP, AM, PA, RO, RR, TO)\n",
    "- Sud-Est (ES, MG, RJ, SP)\n",
    "- Sud (PR, RS, SC)"
   ]
  },
  {
   "cell_type": "code",
   "execution_count": null,
   "id": "bd3d0384",
   "metadata": {},
   "outputs": [],
   "source": [
    "s = pl.Series(\"iso3166\", [\"TUR\", \"???\", \"JPN\", \"NLD\"])\n",
    "print(type(s))"
   ]
  },
  {
   "cell_type": "code",
   "execution_count": null,
   "id": "297d2e3c",
   "metadata": {},
   "outputs": [],
   "source": [
    "print(type(data_filtered[\"customer_state\"]))"
   ]
  },
  {
   "cell_type": "code",
   "execution_count": null,
   "id": "b27a3a9f",
   "metadata": {},
   "outputs": [],
   "source": [
    "# Dictionnaire de mapping : état → région (en français)\n",
    "etat_vers_region = {\n",
    "    # Nord\n",
    "    \"AC\": \"Nord\", \"AP\": \"Nord\", \"AM\": \"Nord\",\n",
    "    \"PA\": \"Nord\", \"RO\": \"Nord\", \"RR\": \"Nord\", \"TO\": \"Nord\",\n",
    "\n",
    "    # Nord-Est\n",
    "    \"AL\": \"Nord-Est\", \"BA\": \"Nord-Est\", \"CE\": \"Nord-Est\",\n",
    "    \"MA\": \"Nord-Est\", \"PB\": \"Nord-Est\", \"PE\": \"Nord-Est\",\n",
    "    \"PI\": \"Nord-Est\", \"RN\": \"Nord-Est\", \"SE\": \"Nord-Est\",\n",
    "\n",
    "    # Centre-Ouest\n",
    "    \"DF\": \"Centre-Ouest\", \"GO\": \"Centre-Ouest\",\n",
    "    \"MT\": \"Centre-Ouest\", \"MS\": \"Centre-Ouest\",\n",
    "\n",
    "    # Sud-Est\n",
    "    \"ES\": \"Sud-Est\", \"MG\": \"Sud-Est\", \"RJ\": \"Sud-Est\", \"SP\": \"Sud-Est\",\n",
    "\n",
    "    # Sud\n",
    "    \"PR\": \"Sud\", \"RS\": \"Sud\", \"SC\": \"Sud\"\n",
    "}\n",
    "\n",
    "data_filtered = data_filtered.with_columns(\n",
    "    pl.col(\"customer_state\").replace_strict(etat_vers_region, default=None).alias(\"customer_region\")\n",
    ")"
   ]
  },
  {
   "cell_type": "code",
   "execution_count": null,
   "id": "29d0ac7f",
   "metadata": {},
   "outputs": [],
   "source": [
    "state_counts = data_filtered['customer_region'].value_counts().sort('count')\n",
    "# Créer le graphique à barres avec les axes inversés\n",
    "ax = state_counts.to_pandas().set_index('customer_region')['count'].plot(kind='barh')\n",
    "plt.title('Répartition des clients selon leur région')"
   ]
  },
  {
   "cell_type": "markdown",
   "id": "3657e31d",
   "metadata": {},
   "source": [
    "Comme il s'agit de régions géographiques aux profils démographique et économique très différents, le déséquilibre d'effectif est maintenu mais ce découpage ayant du sens et présentant peu de catégories différentes, on préfèrera cette variable pour la suite :"
   ]
  },
  {
   "cell_type": "code",
   "execution_count": null,
   "id": "101074a5",
   "metadata": {},
   "outputs": [],
   "source": [
    "data_filtered = data_filtered.drop('customer_state')"
   ]
  },
  {
   "cell_type": "code",
   "execution_count": null,
   "id": "cac6e2ee",
   "metadata": {},
   "outputs": [],
   "source": [
    "# Count values and sort in ascending order\n",
    "counts = (data_filtered\n",
    "    .group_by('type_produit_prefere')\n",
    "    .agg(pl.count().alias('count'))\n",
    "    .sort('count', descending=False)\n",
    ")\n",
    "\n",
    "# Get the top 20 values and convert to pandas for plotting\n",
    "top_20 = counts.tail(20).to_pandas().set_index('type_produit_prefere')['count']\n",
    "\n",
    "# Create horizontal bar chart\n",
    "ax = top_20.plot(kind='barh')\n",
    "plt.title('Répartition des clients selon leur type de produit préféré')"
   ]
  },
  {
   "cell_type": "markdown",
   "id": "721ae94c",
   "metadata": {},
   "source": [
    "Il y a énormément de catégories différentes. Regroupons-les dans des catégories plus larges :"
   ]
  },
  {
   "cell_type": "code",
   "execution_count": null,
   "id": "17de03fb",
   "metadata": {},
   "outputs": [],
   "source": [
    "categorie_vers_grande_categorie = {\n",
    "    # 1. Électronique & Informatique\n",
    "    'audio': 'Électronique & Informatique',\n",
    "    'computers': 'Électronique & Informatique',\n",
    "    'computers_accessories': 'Électronique & Informatique',\n",
    "    'tablets_printing_image': 'Électronique & Informatique',\n",
    "    'telephony': 'Électronique & Informatique',\n",
    "    'fixed_telephony': 'Électronique & Informatique',\n",
    "    'electronics': 'Électronique & Informatique',\n",
    "    'consoles_games': 'Électronique & Informatique',\n",
    "    'cine_photo': 'Électronique & Informatique',\n",
    "\n",
    "    # 2. Mobilier & Aménagement intérieur\n",
    "    'furniture_bedroom': 'Mobilier & Aménagement intérieur',\n",
    "    'furniture_decor': 'Mobilier & Aménagement intérieur',\n",
    "    'furniture_living_room': 'Mobilier & Aménagement intérieur',\n",
    "    'furniture_mattress_and_upholstery': 'Mobilier & Aménagement intérieur',\n",
    "    'office_furniture': 'Mobilier & Aménagement intérieur',\n",
    "    'home_construction': 'Mobilier & Aménagement intérieur',\n",
    "    'home_confort': 'Mobilier & Aménagement intérieur',\n",
    "    'home_comfort_2': 'Mobilier & Aménagement intérieur',\n",
    "    'housewares': 'Mobilier & Aménagement intérieur',\n",
    "    \n",
    "\t# 3. Cuisine & Accessoires décoratifs\n",
    "    'bed_bath_table': 'Cuisine & Accessoires décoratifs',\n",
    "    'kitchen_dining_laundry_garden_furniture': 'Cuisine & Accessoires décoratifs',\n",
    "    'la_cuisine': 'Cuisine & Accessoires décoratifs',\n",
    "    'christmas_supplies': 'Cuisine & Accessoires décoratifs',\n",
    "    'watches_gifts': 'Cuisine & Accessoires décoratifs',\n",
    "\n",
    "    # 4. Mode & Accessoires\n",
    "    'fashio_female_clothing': 'Mode & Accessoires',\n",
    "    'fashion_male_clothing': 'Mode & Accessoires',\n",
    "    'fashion_childrens_clothes': 'Mode & Accessoires',\n",
    "    'fashion_bags_accessories': 'Mode & Accessoires',\n",
    "    'fashion_shoes': 'Mode & Accessoires',\n",
    "    'fashion_underwear_beach': 'Mode & Accessoires',\n",
    "    'fashion_sport': 'Mode & Accessoires',\n",
    "    'luggage_accessories': 'Mode & Accessoires',\n",
    "\n",
    "    # 5. Bébé & Enfants\n",
    "    'baby': 'Bébé & Enfants',\n",
    "    'diapers_and_hygiene': 'Bébé & Enfants',\n",
    "    'toys': 'Bébé & Enfants',\n",
    "\n",
    "    # 6. Alimentation & Boissons\n",
    "    'food': 'Alimentation & Boissons',\n",
    "    'food_drink': 'Alimentation & Boissons',\n",
    "    'drinks': 'Alimentation & Boissons',\n",
    "\n",
    "    # 7. Santé & Beauté\n",
    "    'health_beauty': 'Santé & Beauté',\n",
    "    'perfumery': 'Santé & Beauté',\n",
    "\n",
    "    # 8. Loisirs & Culture\n",
    "    'books_general_interest': 'Loisirs & Culture',\n",
    "    'books_imported': 'Loisirs & Culture',\n",
    "    'books_technical': 'Loisirs & Culture',\n",
    "    'cds_dvds_musicals': 'Loisirs & Culture',\n",
    "    'dvds_blu_ray': 'Loisirs & Culture',\n",
    "    'music': 'Loisirs & Culture',\n",
    "    'musical_instruments': 'Loisirs & Culture',\n",
    "    'art': 'Loisirs & Culture',\n",
    "    'arts_and_craftmanship': 'Loisirs & Culture',\n",
    "    'party_supplies': 'Loisirs & Culture',\n",
    "    'cool_stuff': 'Loisirs & Culture',\n",
    "    'sports_leisure': 'Loisirs & Culture',\n",
    "\n",
    "    # 9. Électroménager\n",
    "    'home_appliances': 'Électroménager',\n",
    "    'home_appliances_2': 'Électroménager',\n",
    "    'small_appliances': 'Électroménager',\n",
    "    'small_appliances_home_oven_and_coffee': 'Électroménager',\n",
    "    'air_conditioning': 'Électroménager',\n",
    "\n",
    "    # 10. Animaux\n",
    "    'pet_shop': 'Animaux',\n",
    "\n",
    "    # 11. Bricolage & Jardin\n",
    "    'construction_tools_construction': 'Bricolage & Jardin',\n",
    "    'construction_tools_lights': 'Bricolage & Jardin',\n",
    "    'construction_tools_safety': 'Bricolage & Jardin',\n",
    "    'costruction_tools_garden': 'Bricolage & Jardin',\n",
    "    'costruction_tools_tools': 'Bricolage & Jardin',\n",
    "    'garden_tools': 'Bricolage & Jardin',\n",
    "\n",
    "    # 12. Papeterie & Bureau\n",
    "    'stationery': 'Papeterie & Bureau',\n",
    "    'industry_commerce_and_business': 'Papeterie & Bureau',\n",
    "    'market_place': 'Papeterie & Bureau',\n",
    "    \n",
    "\t# 13. Auto & Transport\n",
    "    'auto' : 'Auto & Transport',\n",
    "\n",
    "    # 14. Autres\n",
    "    'agro_industry_and_commerce': 'Autres',\n",
    "    'flowers': 'Autres',\n",
    "    'security_and_services': 'Autres',\n",
    "    'signaling_and_security': 'Autres',\n",
    "}\n",
    "\n",
    "data_filtered = data_filtered.with_columns(\n",
    "    pl.col(\"type_produit_prefere\").replace_strict(categorie_vers_grande_categorie, default=None).alias(\"grand_type_produit_prefere\")\n",
    ")"
   ]
  },
  {
   "cell_type": "code",
   "execution_count": null,
   "id": "2178c6a4",
   "metadata": {},
   "outputs": [],
   "source": [
    "counts = data_filtered['grand_type_produit_prefere'].value_counts().sort('count')\n",
    "# Créer le graphique à barres avec les axes inversés\n",
    "ax = counts.to_pandas().set_index('grand_type_produit_prefere')['count'].plot(kind='barh')\n",
    "plt.title('Répartition des clients selon leur catégorie de produit préférée')"
   ]
  },
  {
   "cell_type": "markdown",
   "id": "0f2b112f",
   "metadata": {},
   "source": [
    "Le regroupement ne déséquilibre pas le dataset et réduit drastiquement le nombre de catégories différentes. On préfèrera donc cette variable dans la suite :"
   ]
  },
  {
   "cell_type": "code",
   "execution_count": null,
   "id": "dd31e4e7",
   "metadata": {},
   "outputs": [],
   "source": [
    "data_filtered = data_filtered.drop('type_produit_prefere')"
   ]
  },
  {
   "cell_type": "code",
   "execution_count": null,
   "id": "541e1dfb",
   "metadata": {},
   "outputs": [],
   "source": [
    "data_filtered.columns"
   ]
  },
  {
   "cell_type": "markdown",
   "id": "ea9e76dd",
   "metadata": {},
   "source": [
    "Y a t-il un lien linéaire entre récence et dépense totale? "
   ]
  },
  {
   "cell_type": "code",
   "execution_count": null,
   "id": "7d353f15",
   "metadata": {},
   "outputs": [],
   "source": [
    "numeric_df.to_pandas().plot.scatter(\n",
    "    x=\"recence\", y=\"depense_totale\", title=\"Scatter plot entre récence et dépense\"\n",
    ")"
   ]
  },
  {
   "cell_type": "markdown",
   "id": "f6e92bb0",
   "metadata": {},
   "source": [
    "Il ne semble pas y avoir de lien linéaire entre recence et dépense totale. Ceci est possiblement en partie lié au fait que la plupart des clients n'ont fait qu'une seule commande. A l'inverse si tous les clients étaient des clients réguliers, on aurait pu calculer la récence comme la durée moyenne entre deux commandes. Il y aurait alors eu possiblement un lien entre récence et somme dépensée. "
   ]
  },
  {
   "cell_type": "markdown",
   "id": "280e96a6",
   "metadata": {},
   "source": [
    "### Matrice de corrélation"
   ]
  },
  {
   "cell_type": "code",
   "execution_count": null,
   "id": "91fe2717",
   "metadata": {},
   "outputs": [],
   "source": [
    "matrix = numeric_df.to_pandas().corr(method=\"pearson\")\n",
    "sns.heatmap(matrix, cmap=\"YlGnBu\", annot=True)\n",
    "plt.title(\"Matrice de corrélation entre les valiables numériques du dataset\")"
   ]
  },
  {
   "cell_type": "markdown",
   "id": "b4b9d728",
   "metadata": {},
   "source": [
    "## Encodage des variables catégorielles"
   ]
  },
  {
   "cell_type": "code",
   "execution_count": null,
   "id": "ffaed8fa",
   "metadata": {},
   "outputs": [],
   "source": [
    "data_filtered.columns"
   ]
  },
  {
   "cell_type": "code",
   "execution_count": null,
   "id": "b7fb7aff",
   "metadata": {},
   "outputs": [],
   "source": [
    "features_to_encode = ['grand_type_produit_prefere','customer_region']\n",
    "data_encoded = data_filtered.to_dummies(columns=features_to_encode)\n",
    "print(data_encoded.head())\n",
    "data_encoded.shape"
   ]
  },
  {
   "cell_type": "markdown",
   "id": "986c44b6",
   "metadata": {},
   "source": [
    "## Enregistrer le DataFrame dans un fichier"
   ]
  },
  {
   "cell_type": "code",
   "execution_count": null,
   "id": "b14b21d9",
   "metadata": {},
   "outputs": [],
   "source": [
    "# Save as CSV\n",
    "data_encoded.write_csv(\"clean_dataset.csv\")"
   ]
  }
 ],
 "metadata": {
  "kernelspec": {
   "display_name": "OC_P5",
   "language": "python",
   "name": "python3"
  },
  "language_info": {
   "codemirror_mode": {
    "name": "ipython",
    "version": 3
   },
   "file_extension": ".py",
   "mimetype": "text/x-python",
   "name": "python",
   "nbconvert_exporter": "python",
   "pygments_lexer": "ipython3",
   "version": "3.13.2"
  }
 },
 "nbformat": 4,
 "nbformat_minor": 5
}
